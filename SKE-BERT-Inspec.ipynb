{
 "cells": [
  {
   "cell_type": "code",
   "execution_count": 5,
   "metadata": {
    "scrolled": true
   },
   "outputs": [],
   "source": [
    "import tensorflow as tf\n",
    "import numpy as np"
   ]
  },
  {
   "cell_type": "code",
   "execution_count": 2,
   "metadata": {},
   "outputs": [],
   "source": [
    "import pickle\n",
    "import collections"
   ]
  },
  {
   "cell_type": "code",
   "execution_count": 3,
   "metadata": {},
   "outputs": [],
   "source": [
    "import matplotlib.pyplot as plt"
   ]
  },
  {
   "cell_type": "code",
   "execution_count": 4,
   "metadata": {},
   "outputs": [],
   "source": [
    "import json\n",
    "import string\n",
    "from string import punctuation"
   ]
  },
  {
   "cell_type": "code",
   "execution_count": 5,
   "metadata": {},
   "outputs": [],
   "source": [
    "from tokenizers import BertWordPieceTokenizer\n",
    "from transformers import BertTokenizer, TFBertModel, BertConfig"
   ]
  },
  {
   "cell_type": "code",
   "execution_count": 6,
   "metadata": {
    "scrolled": true
   },
   "outputs": [],
   "source": [
    "import nltk\n",
    "from nltk.corpus import stopwords\n",
    "stopwords = stopwords.words('english')\n",
    "\n",
    "#import evaluate\n",
    "import sys\n",
    "import os\n",
    "\n",
    "def leaves(tree):\n",
    "    \"\"\"Finds NP (nounphrase) leaf nodes of a chunk tree.\"\"\"\n",
    "    l = []\n",
    "    for subtree in tree.subtrees(filter = lambda t: t.label()=='NP'):\n",
    "        l.append(subtree.leaves())\n",
    "    \n",
    "    return l\n",
    "\n",
    "def normalise(word):\n",
    "    \"\"\"Normalises words to lowercase and stems and lemmatizes it.\"\"\"\n",
    "    word = word.lower()\n",
    "    #word = stemmer.stem(word)\n",
    "    #word = lemmatizer.lemmatize(word)\n",
    "    return word\n",
    "\n",
    "def acceptable_word(word):\n",
    "    \"\"\"Checks conditions for acceptable word: length, stopword.\"\"\"\n",
    "    accepted = bool(2 <= len(word) <= 40\n",
    "        and word.lower() not in stopwords)\n",
    "    return accepted\n",
    "\n",
    "\n",
    "def get_terms(tree):\n",
    "    kp = []\n",
    "    for leaf in leaves(tree):\n",
    "        term = [ normalise(w) for w,t in leaf if acceptable_word(w) ]\n",
    "        if term:\n",
    "            kp.append(term)\n",
    "    \n",
    "    return kp\n"
   ]
  },
  {
   "cell_type": "code",
   "execution_count": 246,
   "metadata": {
    "scrolled": true
   },
   "outputs": [],
   "source": [
    "def get_kp(text):\n",
    "    \n",
    "    # Used when tokenizing words\n",
    "    sentence_re = r'''(?x)      # set flag to allow verbose regexps\n",
    "            (?:[A-Z]\\.)+        # abbreviations, e.g. U.S.A.\n",
    "          | \\w+(?:-\\w+)*        # words with optional internal hyphens\n",
    "          | \\$?\\d+(?:\\.\\d+)?%?  # currency and percentages, e.g. $12.40, 82%\n",
    "          | \\.\\.\\.              # ellipsis\n",
    "          | [][.,;\"'?():_`-#]    # these are separate tokens; includes ], [\n",
    "        '''\n",
    "\n",
    "    #lemmatizer = nltk.WordNetLemmatizer()\n",
    "    #stemmer = nltk.stem.porter.PorterStemmer()\n",
    "\n",
    "    #Taken from Su Nam Kim Paper\n",
    "    grammar = r\"\"\"\n",
    "        NBAR:\n",
    "            {<NN.*|JJ>*<NN.*>}  # Nouns and Adjectives, terminated with Nouns\n",
    "            {<JJ|JJR|JJS|VBG|VBN>*<NN|NNS|NNP|NNPS|VBG>}\n",
    "        NP:\n",
    "            {<NBAR>}\n",
    "            {<NBAR><IN><NBAR>}  # Above, connected with in/of/etc...\n",
    "    \"\"\"\n",
    "\n",
    "    #toks = nltk.regexp_tokenize(text, sentence_re)\n",
    "    postoks = nltk.tag.pos_tag(text)\n",
    "    chunker = nltk.RegexpParser(grammar)\n",
    "    tree = chunker.parse(postoks)\n",
    "    terms = get_terms(tree)\n",
    "    #pos,pos_set = find_positions(text,terms)\n",
    "    return terms#,pos,pos_set"
   ]
  },
  {
   "cell_type": "code",
   "execution_count": 8,
   "metadata": {},
   "outputs": [],
   "source": [
    "data = 'Inspec/docsutf8/'\n",
    "keys = 'Inspec/keys/'\n",
    "files = os.listdir(data)\n",
    "key_files = os.listdir(keys)"
   ]
  },
  {
   "cell_type": "code",
   "execution_count": 9,
   "metadata": {},
   "outputs": [],
   "source": [
    "def find_positions(document,bert_tocs, kps):\n",
    "    ''' \n",
    "    merge the same kps & keep present kps in document\n",
    "    Inputs:\n",
    "        document : a word list : ['sun', 'sunshine', ...] || lower cased\n",
    "        kps : can have more than one kp : [['sun'], ['key','phrase'], ['sunshine']] || not duplicate\n",
    "    Outputs:\n",
    "        all_present_kps : present keyphrases\n",
    "        positions_for_all : start_end_posisiton for prensent keyphrases\n",
    "        a present kp postions list : every present's positions in documents, \n",
    "        each kp can be presented in several postions .\n",
    "        [[[0,0],[20,21]], [[1,1]]]\n",
    "    '''\n",
    "    tot_doc_char = ' '.join(document)\n",
    "    \n",
    "    positions_for_all = []\n",
    "    position_start,position_end =[],[]\n",
    "    all_present_kps = []\n",
    "    for kp in kps:\n",
    "        ans_string = ' '.join(kp)\n",
    "        \n",
    "        if ans_string not in tot_doc_char:\n",
    "            continue\n",
    "        else: \n",
    "            positions_for_each = []\n",
    "            # find all positions for each kp\n",
    "            for i in range(0, len(bert_tocs) - len(kp) + 1):\n",
    "                found = False\n",
    "                search_str = ''\n",
    "                if ans_string.startswith(bert_tocs[i]):\n",
    "                    found = True\n",
    "                    search_str +=bert_tocs[i]\n",
    "                    search_idx = i\n",
    "                    while found and search_idx<(len(bert_tocs)-1):\n",
    "                        search_idx+=1\n",
    "                        if search_str+bert_tocs[search_idx] in ans_string:\n",
    "                            search_str+=bert_tocs[search_idx]\n",
    "                        elif search_str+' '+bert_tocs[search_idx] in ans_string:\n",
    "                            search_str+=' '+bert_tocs[search_idx]\n",
    "                        else:\n",
    "                            found = False\n",
    "                        \n",
    "                if (search_str==ans_string) and (i<search_idx):\n",
    "                    assert len(kp) >= 1\n",
    "                    positions_for_each.append((i+1, search_idx))\n",
    "                    position_start.append(i+1)\n",
    "                    position_end.append(search_idx)\n",
    "                    \n",
    "        if len(positions_for_each) > 0 :\n",
    "            positions_for_all.extend(positions_for_each)\n",
    "            all_present_kps.append(kp)\n",
    "           \n",
    "    assert len(positions_for_all) >= len(all_present_kps)\n",
    "    \n",
    "    if len(all_present_kps) == 0:\n",
    "        return [None,None]\n",
    "    return [position_start,position_end],set(positions_for_all)"
   ]
  },
  {
   "cell_type": "code",
   "execution_count": 10,
   "metadata": {},
   "outputs": [],
   "source": [
    "def remove_punctuation(text):\n",
    "    no_punct=[words for words in text if words not in string.punctuation]\n",
    "    words_wo_punct=''.join(no_punct)\n",
    "    return words_wo_punct\n",
    "\n",
    "def remove_stopwords(text):\n",
    "    text=[word for word in text if word not in stopword]\n",
    "    return text"
   ]
  },
  {
   "cell_type": "code",
   "execution_count": 11,
   "metadata": {},
   "outputs": [],
   "source": [
    "def calculate_f1(y_labels,y_preds,depth,levels):\n",
    "    precision = []\n",
    "    recall = []\n",
    "    f1 = []\n",
    "    \n",
    "    for idx,y_label in enumerate(y_labels):\n",
    "        tp = 0\n",
    "        p = []\n",
    "        r = []\n",
    "        y_label = set(np.where(y_label==1)[0])\n",
    "        \n",
    "        #print(y_preds[idx].shape)\n",
    "        key_idx = np.argsort(-y_preds[idx])#[:,0])\n",
    "        #print(sorted(-y_preds[idx]))\n",
    "        y_new = np.sort(y_preds[idx])[::-1]\n",
    "        #print(y_preds[idx])\n",
    "        preds = key_idx[y_new>=0.5]\n",
    "        for i in range(depth):\n",
    "            if len(preds)>i:\n",
    "                if preds[i] in y_label:\n",
    "                    tp+=1\n",
    "            p.append(tp/(min(i,len(preds))+1))\n",
    "            r.append(tp/max(len(y_label),1))\n",
    "    \n",
    "    \n",
    "        level_index = []\n",
    "        level_p = []\n",
    "        level_r = []\n",
    "        for idx,level in enumerate(levels):\n",
    "            level_p.append(p[level-1])\n",
    "            level_r.append(r[level-1])\n",
    "            if p[level-1]+r[level-1]>0:\n",
    "                level_index.append(2*p[level-1]*r[level-1]/(p[level-1]+r[level-1]))\n",
    "            else:\n",
    "                level_index.append(0)\n",
    "        #print('k',level_index)\n",
    "        precision.append(level_p)\n",
    "        recall.append(level_r)\n",
    "        f1.append(level_index)\n",
    "    precision = np.array(precision)\n",
    "    recall = np.array(recall)\n",
    "    f1 = np.array(f1)\n",
    "    \n",
    "    print('F1',np.mean(f1,axis=0),np.mean(precision,axis=0),np.mean(recall,axis=0))\n",
    "    \n",
    "                \n",
    "            "
   ]
  },
  {
   "cell_type": "code",
   "execution_count": 12,
   "metadata": {},
   "outputs": [
    {
     "name": "stderr",
     "output_type": "stream",
     "text": [
      "Some layers from the model checkpoint at bert-base-uncased were not used when initializing TFBertModel: ['mlm___cls', 'nsp___cls']\n",
      "- This IS expected if you are initializing TFBertModel from the checkpoint of a model trained on another task or with another architecture (e.g. initializing a BertForSequenceClassification model from a BertForPretraining model).\n",
      "- This IS NOT expected if you are initializing TFBertModel from the checkpoint of a model that you expect to be exactly identical (initializing a BertForSequenceClassification model from a BertForSequenceClassification model).\n",
      "All the layers of TFBertModel were initialized from the model checkpoint at bert-base-uncased.\n",
      "If your task is similar to the task the model of the checkpoint was trained on, you can already use TFBertModel for predictions without further training.\n"
     ]
    }
   ],
   "source": [
    "vocab = \"D:/Word embedding/bert/assets/vocab.txt\"\n",
    "tokenizer = BertWordPieceTokenizer(vocab, lowercase=True)\n",
    "encoder = TFBertModel.from_pretrained(\"bert-base-uncased\")"
   ]
  },
  {
   "cell_type": "code",
   "execution_count": 19,
   "metadata": {},
   "outputs": [],
   "source": [
    "np.savetxt('Data\\\\Inspec\\\\x_train.csv',x_train)\n",
    "np.savetxt('Data\\\\Inspec\\\\x_mask.csv',x_mask)\n",
    "with open('Data\\\\Inspec\\\\x_pos.pkl','wb') as f:\n",
    "    pickle.dump(x_pos, f)\n",
    "    #np.savetxt('Data\\\\Inspec\\\\x_pos.csv',x_pos)\n",
    "with open('Data\\\\Inspec\\\\y_mask.pkl','wb') as f:\n",
    "    pickle.dump(y_mask, f)\n",
    "    #np.savetxt('Data\\\\Inspec\\\\x_pos.csv',x_pos)\n",
    "with open('Data\\\\Inspec\\\\y_train.pkl','wb') as f:\n",
    "    pickle.dump(y_train, f)\n",
    "    #np.savetxt('Data\\\\Inspec\\\\x_pos.csv',x_pos)\n"
   ]
  },
  {
   "cell_type": "code",
   "execution_count": 20,
   "metadata": {},
   "outputs": [
    {
     "data": {
      "text/plain": [
       "TensorShape([1984, 154, 2])"
      ]
     },
     "execution_count": 20,
     "metadata": {},
     "output_type": "execute_result"
    }
   ],
   "source": [
    "y_train.shape"
   ]
  },
  {
   "cell_type": "code",
   "execution_count": 21,
   "metadata": {},
   "outputs": [
    {
     "name": "stdout",
     "output_type": "stream",
     "text": [
      "(512,) (512,) (1984, 154, 2)\n"
     ]
    }
   ],
   "source": [
    "print(x_train[0].shape,x_train[1].shape,y_train.shape)"
   ]
  },
  {
   "cell_type": "code",
   "execution_count": 9,
   "metadata": {},
   "outputs": [],
   "source": [
    "max_len = 512\n",
    "max_kp = 154"
   ]
  },
  {
   "cell_type": "code",
   "execution_count": 10,
   "metadata": {
    "scrolled": true
   },
   "outputs": [
    {
     "ename": "NameError",
     "evalue": "name 'encoder' is not defined",
     "output_type": "error",
     "traceback": [
      "\u001b[1;31m---------------------------------------------------------------------------\u001b[0m",
      "\u001b[1;31mNameError\u001b[0m                                 Traceback (most recent call last)",
      "\u001b[1;32m<ipython-input-10-17fb086b317a>\u001b[0m in \u001b[0;36m<module>\u001b[1;34m\u001b[0m\n\u001b[0;32m      1\u001b[0m \u001b[0minput_ids\u001b[0m \u001b[1;33m=\u001b[0m \u001b[0mtf\u001b[0m\u001b[1;33m.\u001b[0m\u001b[0mkeras\u001b[0m\u001b[1;33m.\u001b[0m\u001b[0mlayers\u001b[0m\u001b[1;33m.\u001b[0m\u001b[0mInput\u001b[0m\u001b[1;33m(\u001b[0m\u001b[0mshape\u001b[0m\u001b[1;33m=\u001b[0m\u001b[1;33m(\u001b[0m\u001b[0mmax_len\u001b[0m\u001b[1;33m,\u001b[0m\u001b[1;33m)\u001b[0m\u001b[1;33m,\u001b[0m \u001b[0mdtype\u001b[0m\u001b[1;33m=\u001b[0m\u001b[0mtf\u001b[0m\u001b[1;33m.\u001b[0m\u001b[0mint32\u001b[0m\u001b[1;33m)\u001b[0m\u001b[1;33m\u001b[0m\u001b[1;33m\u001b[0m\u001b[0m\n\u001b[0;32m      2\u001b[0m \u001b[0mattention_mask\u001b[0m \u001b[1;33m=\u001b[0m \u001b[0mtf\u001b[0m\u001b[1;33m.\u001b[0m\u001b[0mkeras\u001b[0m\u001b[1;33m.\u001b[0m\u001b[0mlayers\u001b[0m\u001b[1;33m.\u001b[0m\u001b[0mInput\u001b[0m\u001b[1;33m(\u001b[0m\u001b[0mshape\u001b[0m\u001b[1;33m=\u001b[0m\u001b[1;33m(\u001b[0m\u001b[0mmax_len\u001b[0m\u001b[1;33m,\u001b[0m\u001b[1;33m)\u001b[0m\u001b[1;33m,\u001b[0m \u001b[0mdtype\u001b[0m\u001b[1;33m=\u001b[0m\u001b[0mtf\u001b[0m\u001b[1;33m.\u001b[0m\u001b[0mint32\u001b[0m\u001b[1;33m)\u001b[0m\u001b[1;33m\u001b[0m\u001b[1;33m\u001b[0m\u001b[0m\n\u001b[1;32m----> 3\u001b[1;33m \u001b[0membedding\u001b[0m \u001b[1;33m=\u001b[0m \u001b[0mencoder\u001b[0m\u001b[1;33m(\u001b[0m\u001b[0minput_ids\u001b[0m\u001b[1;33m,\u001b[0m \u001b[0mattention_mask\u001b[0m\u001b[1;33m=\u001b[0m\u001b[0mattention_mask\u001b[0m\u001b[1;33m)\u001b[0m\u001b[1;33m[\u001b[0m\u001b[1;36m0\u001b[0m\u001b[1;33m]\u001b[0m\u001b[1;33m\u001b[0m\u001b[1;33m\u001b[0m\u001b[0m\n\u001b[0m\u001b[0;32m      4\u001b[0m \u001b[1;33m\u001b[0m\u001b[0m\n\u001b[0;32m      5\u001b[0m bilstm1 = tf.keras.layers.Bidirectional(tf.keras.layers.LSTM(36,\n",
      "\u001b[1;31mNameError\u001b[0m: name 'encoder' is not defined"
     ]
    }
   ],
   "source": [
    "input_ids = tf.keras.layers.Input(shape=(max_len,), dtype=tf.int32)\n",
    "attention_mask = tf.keras.layers.Input(shape=(max_len,), dtype=tf.int32)\n",
    "embedding = encoder(input_ids, attention_mask=attention_mask)[0]\n",
    "\n",
    "bilstm1 = tf.keras.layers.Bidirectional(tf.keras.layers.LSTM(36,\n",
    "                                                             kernel_initializer=tf.keras.initializers.RandomNormal(mean=0.00,stddev=0.15),\n",
    "                                                             dropout = 0.15,\n",
    "                                                             return_sequences=True),\n",
    "                                                             merge_mode=None)(embedding)\n",
    "pos_mask = tf.keras.layers.Input(shape=(2,max_kp),dtype='int32')\n",
    "mask_start = pos_mask[0][0]\n",
    "mask_end = pos_mask[0][1]\n",
    "\n",
    "start_rep_fr = tf.gather(bilstm1[0],mask_start,axis=1)\n",
    "start_rep_bk = tf.gather(bilstm1[1],mask_start,axis=1)\n",
    "end_rep_fr = tf.gather(bilstm1[0],mask_end,axis=1)\n",
    "end_rep_bk = tf.gather(bilstm1[0],mask_end,axis=1)\n",
    "\n",
    "\n",
    "span_fe_diff_fr = start_rep_fr-end_rep_fr\n",
    "span_fe_prod_fr = tf.math.multiply(start_rep_fr,end_rep_fr)\n",
    "span_fe_diff_bk = start_rep_bk-end_rep_bk\n",
    "span_fe_prod_bk = tf.math.multiply(start_rep_bk,end_rep_bk)\n",
    "\n",
    "\n",
    "span_fe = tf.keras.layers.concatenate([start_rep_fr,\n",
    "                     end_rep_fr,\n",
    "                     start_rep_bk,\n",
    "                     end_rep_bk,\n",
    "                     span_fe_diff_fr,\n",
    "                     span_fe_diff_bk,\n",
    "                     span_fe_prod_fr,\n",
    "                     span_fe_prod_bk\n",
    "                    ],2)\n",
    "\n",
    "bilstm2 = tf.keras.layers.Bidirectional(tf.keras.layers.LSTM(6,return_sequences=True,dropout = 0.25,\n",
    "                                                            #kernel_initializer=tf.keras.initializers.(mean=0.0,stddev=0.05),\n",
    "                                                            ),\n",
    "                                        \n",
    "                                         merge_mode='concat',\n",
    "                                         input_shape=(max_kp,30*4))(span_fe)\n",
    "output = tf.keras.layers.Dense(1,activation='sigmoid')(bilstm2)"
   ]
  },
  {
   "cell_type": "code",
   "execution_count": 24,
   "metadata": {
    "scrolled": true
   },
   "outputs": [],
   "source": [
    "kpe_model = tf.keras.models.Model(inputs=[input_ids,attention_mask,pos_mask], outputs=output)\n",
    "kpe_model.layers[3].trainable = False"
   ]
  },
  {
   "cell_type": "code",
   "execution_count": 25,
   "metadata": {
    "scrolled": true
   },
   "outputs": [
    {
     "name": "stdout",
     "output_type": "stream",
     "text": [
      "Model: \"functional_1\"\n",
      "__________________________________________________________________________________________________\n",
      "Layer (type)                    Output Shape         Param #     Connected to                     \n",
      "==================================================================================================\n",
      "input_1 (InputLayer)            [(None, 512)]        0                                            \n",
      "__________________________________________________________________________________________________\n",
      "input_2 (InputLayer)            [(None, 512)]        0                                            \n",
      "__________________________________________________________________________________________________\n",
      "input_3 (InputLayer)            [(None, 2, 154)]     0                                            \n",
      "__________________________________________________________________________________________________\n",
      "tf_bert_model (TFBertModel)     ((None, 512, 768), ( 109482240   input_1[0][0]                    \n",
      "                                                                 input_2[0][0]                    \n",
      "__________________________________________________________________________________________________\n",
      "tf_op_layer_strided_slice (Tens [(2, 154)]           0           input_3[0][0]                    \n",
      "__________________________________________________________________________________________________\n",
      "tf_op_layer_strided_slice_2 (Te [(2, 154)]           0           input_3[0][0]                    \n",
      "__________________________________________________________________________________________________\n",
      "bidirectional (Bidirectional)   [(None, 512, 36), (N 231840      tf_bert_model[0][0]              \n",
      "__________________________________________________________________________________________________\n",
      "tf_op_layer_strided_slice_1 (Te [(154,)]             0           tf_op_layer_strided_slice[0][0]  \n",
      "__________________________________________________________________________________________________\n",
      "tf_op_layer_strided_slice_3 (Te [(154,)]             0           tf_op_layer_strided_slice_2[0][0]\n",
      "__________________________________________________________________________________________________\n",
      "tf_op_layer_GatherV2 (TensorFlo [(None, 154, 36)]    0           bidirectional[0][0]              \n",
      "                                                                 tf_op_layer_strided_slice_1[0][0]\n",
      "__________________________________________________________________________________________________\n",
      "tf_op_layer_GatherV2_2 (TensorF [(None, 154, 36)]    0           bidirectional[0][0]              \n",
      "                                                                 tf_op_layer_strided_slice_3[0][0]\n",
      "__________________________________________________________________________________________________\n",
      "tf_op_layer_GatherV2_1 (TensorF [(None, 154, 36)]    0           bidirectional[0][1]              \n",
      "                                                                 tf_op_layer_strided_slice_1[0][0]\n",
      "__________________________________________________________________________________________________\n",
      "tf_op_layer_GatherV2_3 (TensorF [(None, 154, 36)]    0           bidirectional[0][0]              \n",
      "                                                                 tf_op_layer_strided_slice_3[0][0]\n",
      "__________________________________________________________________________________________________\n",
      "tf_op_layer_Sub (TensorFlowOpLa [(None, 154, 36)]    0           tf_op_layer_GatherV2[0][0]       \n",
      "                                                                 tf_op_layer_GatherV2_2[0][0]     \n",
      "__________________________________________________________________________________________________\n",
      "tf_op_layer_Sub_1 (TensorFlowOp [(None, 154, 36)]    0           tf_op_layer_GatherV2_1[0][0]     \n",
      "                                                                 tf_op_layer_GatherV2_3[0][0]     \n",
      "__________________________________________________________________________________________________\n",
      "tf_op_layer_Mul (TensorFlowOpLa [(None, 154, 36)]    0           tf_op_layer_GatherV2[0][0]       \n",
      "                                                                 tf_op_layer_GatherV2_2[0][0]     \n",
      "__________________________________________________________________________________________________\n",
      "tf_op_layer_Mul_1 (TensorFlowOp [(None, 154, 36)]    0           tf_op_layer_GatherV2_1[0][0]     \n",
      "                                                                 tf_op_layer_GatherV2_3[0][0]     \n",
      "__________________________________________________________________________________________________\n",
      "concatenate (Concatenate)       (None, 154, 288)     0           tf_op_layer_GatherV2[0][0]       \n",
      "                                                                 tf_op_layer_GatherV2_2[0][0]     \n",
      "                                                                 tf_op_layer_GatherV2_1[0][0]     \n",
      "                                                                 tf_op_layer_GatherV2_3[0][0]     \n",
      "                                                                 tf_op_layer_Sub[0][0]            \n",
      "                                                                 tf_op_layer_Sub_1[0][0]          \n",
      "                                                                 tf_op_layer_Mul[0][0]            \n",
      "                                                                 tf_op_layer_Mul_1[0][0]          \n",
      "__________________________________________________________________________________________________\n",
      "bidirectional_1 (Bidirectional) (None, 154, 12)      14160       concatenate[0][0]                \n",
      "__________________________________________________________________________________________________\n",
      "dense (Dense)                   (None, 154, 1)       13          bidirectional_1[0][0]            \n",
      "==================================================================================================\n",
      "Total params: 109,728,253\n",
      "Trainable params: 246,013\n",
      "Non-trainable params: 109,482,240\n",
      "__________________________________________________________________________________________________\n",
      "None\n"
     ]
    }
   ],
   "source": [
    "print(kpe_model.summary())"
   ]
  },
  {
   "cell_type": "code",
   "execution_count": 26,
   "metadata": {
    "scrolled": true
   },
   "outputs": [
    {
     "data": {
      "text/plain": [
       "20"
      ]
     },
     "execution_count": 26,
     "metadata": {},
     "output_type": "execute_result"
    }
   ],
   "source": [
    "import gc\n",
    "gc.collect()"
   ]
  },
  {
   "cell_type": "code",
   "execution_count": 6,
   "metadata": {},
   "outputs": [],
   "source": [
    "loss_object = tf.keras.losses.CategoricalCrossentropy()\n",
    "\n",
    "\n",
    "def loss_function(y_true, y_pred):\n",
    "    #print(y_pred.shape,y_true.shape)\n",
    "    mask = tf.math.logical_not(tf.math.equal(y_true, 0))\n",
    "    y_true = tf.clip_by_value(y_true-1, 0, 1)\n",
    "    #loss_ = loss_object(y_true[mask], y_pred[mask])\n",
    "    pos = tf.math.logical_and(tf.math.equal(y_true, 1),mask)\n",
    "    loss_ = -tf.reduce_sum(10.0*tf.math.log(y_pred[pos]+0.01))-tf.reduce_sum(tf.math.log(0.99-y_pred[tf.logical_not(pos)]))\n",
    "    #mask = tf.cast(mask, dtype=loss_.dtype)\n",
    "    #loss_ *= mask\n",
    "    #loss_ = tf.boolean_mask(loss_,mask)\n",
    "    \n",
    "    return loss_#tf.reduce_mean(tf.reduce_sum(loss_,axis=1)/tf.reduce_sum(mask,axis=1))\n",
    "\n",
    "\n",
    "def ac_metrics(y_true,y_pred):\n",
    "    mask = tf.math.logical_not(tf.math.equal(y_true, 0))\n",
    "    y_true = tf.cast(tf.clip_by_value(y_true-1, 0, 1),dtype='int32')\n",
    "    y_pred = tf.cast(tf.where(y_pred>=0.5,1,0),dtype='int32')\n",
    "    diff = tf.cast(tf.math.equal(y_true,y_pred),dtype='int32')\n",
    "    mask = tf.cast(mask, dtype=diff.dtype)\n",
    "    diff*= mask\n",
    "    \n",
    "    return tf.reduce_mean(tf.reduce_sum(diff,axis=1)/tf.reduce_sum(mask,axis=1))"
   ]
  },
  {
   "cell_type": "code",
   "execution_count": 28,
   "metadata": {},
   "outputs": [],
   "source": [
    "opt = tf.keras.optimizers.Adam(learning_rate=0.00005)\n",
    "kpe_model.compile(optimizer=opt,\n",
    "              loss=loss_function,\n",
    "              metrics=[ac_metrics])\n",
    "\n",
    "#checkpoint\n",
    "filepath=\"weights-improvement-{epoch:02d}-{val_ac_metrics:.2f}.hdf5\"\n",
    "checkpoint = tf.keras.callbacks.ModelCheckpoint(filepath, monitor='val_ac_metrics', verbose=1, save_best_only=True, mode='max')\n",
    "callbacks_list = [checkpoint]\n"
   ]
  },
  {
   "cell_type": "code",
   "execution_count": 138,
   "metadata": {
    "scrolled": true
   },
   "outputs": [
    {
     "name": "stdout",
     "output_type": "stream",
     "text": [
      "Epoch 1/5\n",
      "42/42 [==============================] - ETA: 0s - loss: 2281.8403 - ac_metrics: 0.514 - ETA: 1:07 - loss: 2307.3616 - ac_metrics: 0.447 - ETA: 1:27 - loss: 2526.3909 - ac_metrics: 0.519 - ETA: 1:36 - loss: 2434.5708 - ac_metrics: 0.556 - ETA: 1:39 - loss: 2331.8618 - ac_metrics: 0.562 - ETA: 1:41 - loss: 2326.4548 - ac_metrics: 0.546 - ETA: 1:41 - loss: 2297.0325 - ac_metrics: 0.538 - ETA: 1:40 - loss: 2336.7271 - ac_metrics: 0.526 - ETA: 1:38 - loss: 2296.5544 - ac_metrics: 0.534 - ETA: 1:37 - loss: 2283.1042 - ac_metrics: 0.532 - ETA: 1:34 - loss: 2298.0864 - ac_metrics: 0.515 - ETA: 1:32 - loss: 2332.0771 - ac_metrics: 0.527 - ETA: 1:30 - loss: 2311.9197 - ac_metrics: 0.534 - ETA: 1:27 - loss: 2355.5884 - ac_metrics: 0.551 - ETA: 1:24 - loss: 2317.1282 - ac_metrics: 0.540 - ETA: 1:22 - loss: 2349.5261 - ac_metrics: 0.523 - ETA: 1:19 - loss: 2343.7539 - ac_metrics: 0.523 - ETA: 1:16 - loss: 2360.9990 - ac_metrics: 0.518 - ETA: 1:13 - loss: 2344.9849 - ac_metrics: 0.513 - ETA: 1:10 - loss: 2354.3162 - ac_metrics: 0.502 - ETA: 1:07 - loss: 2386.0979 - ac_metrics: 0.494 - ETA: 1:04 - loss: 2414.5920 - ac_metrics: 0.483 - ETA: 1:01 - loss: 2404.3289 - ac_metrics: 0.483 - ETA: 58s - loss: 2409.0056 - ac_metrics: 0.490 - ETA: 55s - loss: 2418.1018 - ac_metrics: 0.48 - ETA: 51s - loss: 2415.4268 - ac_metrics: 0.47 - ETA: 48s - loss: 2422.2859 - ac_metrics: 0.47 - ETA: 45s - loss: 2415.9309 - ac_metrics: 0.48 - ETA: 42s - loss: 2418.9614 - ac_metrics: 0.48 - ETA: 39s - loss: 2417.4441 - ac_metrics: 0.49 - ETA: 35s - loss: 2396.0334 - ac_metrics: 0.49 - ETA: 32s - loss: 2382.5278 - ac_metrics: 0.49 - ETA: 29s - loss: 2389.5012 - ac_metrics: 0.49 - ETA: 26s - loss: 2386.1348 - ac_metrics: 0.49 - ETA: 22s - loss: 2386.2593 - ac_metrics: 0.50 - ETA: 19s - loss: 2377.0764 - ac_metrics: 0.50 - ETA: 16s - loss: 2366.0930 - ac_metrics: 0.50 - ETA: 13s - loss: 2352.2341 - ac_metrics: 0.50 - ETA: 9s - loss: 2336.9214 - ac_metrics: 0.5017 - ETA: 6s - loss: 2325.2048 - ac_metrics: 0.505 - ETA: 3s - loss: 2322.5737 - ac_metrics: 0.505 - ETA: 0s - loss: 2311.5959 - ac_metrics: 0.508 - 150s 4s/step - loss: 2311.5959 - ac_metrics: 0.5087 - val_loss: 2339.0647 - val_ac_metrics: 0.4987\n",
      "Epoch 2/5\n",
      "42/42 [==============================] - ETA: 0s - loss: 2126.8013 - ac_metrics: 0.375 - ETA: 1:07 - loss: 1954.1720 - ac_metrics: 0.537 - ETA: 1:28 - loss: 2004.1357 - ac_metrics: 0.468 - ETA: 1:36 - loss: 2177.1995 - ac_metrics: 0.500 - ETA: 1:40 - loss: 2240.4368 - ac_metrics: 0.534 - ETA: 1:41 - loss: 2340.9729 - ac_metrics: 0.565 - ETA: 1:41 - loss: 2334.5950 - ac_metrics: 0.590 - ETA: 1:40 - loss: 2320.0591 - ac_metrics: 0.596 - ETA: 1:39 - loss: 2293.1855 - ac_metrics: 0.584 - ETA: 1:37 - loss: 2275.5544 - ac_metrics: 0.563 - ETA: 1:35 - loss: 2287.9624 - ac_metrics: 0.554 - ETA: 1:33 - loss: 2293.3079 - ac_metrics: 0.538 - ETA: 1:30 - loss: 2300.9666 - ac_metrics: 0.530 - ETA: 1:27 - loss: 2339.2729 - ac_metrics: 0.537 - ETA: 1:25 - loss: 2370.1965 - ac_metrics: 0.529 - ETA: 1:22 - loss: 2389.9773 - ac_metrics: 0.539 - ETA: 1:19 - loss: 2372.9292 - ac_metrics: 0.522 - ETA: 1:16 - loss: 2368.2629 - ac_metrics: 0.514 - ETA: 1:13 - loss: 2351.4363 - ac_metrics: 0.510 - ETA: 1:10 - loss: 2344.1206 - ac_metrics: 0.500 - ETA: 1:07 - loss: 2345.1416 - ac_metrics: 0.499 - ETA: 1:04 - loss: 2345.7510 - ac_metrics: 0.496 - ETA: 1:01 - loss: 2357.8582 - ac_metrics: 0.489 - ETA: 58s - loss: 2353.9412 - ac_metrics: 0.485 - ETA: 55s - loss: 2379.5020 - ac_metrics: 0.48 - ETA: 52s - loss: 2362.0505 - ac_metrics: 0.48 - ETA: 48s - loss: 2360.2876 - ac_metrics: 0.47 - ETA: 45s - loss: 2352.2212 - ac_metrics: 0.47 - ETA: 42s - loss: 2345.4202 - ac_metrics: 0.47 - ETA: 39s - loss: 2348.0967 - ac_metrics: 0.46 - ETA: 36s - loss: 2337.3486 - ac_metrics: 0.46 - ETA: 32s - loss: 2346.8689 - ac_metrics: 0.47 - ETA: 29s - loss: 2344.0356 - ac_metrics: 0.47 - ETA: 26s - loss: 2343.5713 - ac_metrics: 0.47 - ETA: 23s - loss: 2348.1094 - ac_metrics: 0.47 - ETA: 19s - loss: 2355.7239 - ac_metrics: 0.47 - ETA: 16s - loss: 2347.7141 - ac_metrics: 0.47 - ETA: 13s - loss: 2350.6458 - ac_metrics: 0.46 - ETA: 9s - loss: 2347.2515 - ac_metrics: 0.4659 - ETA: 6s - loss: 2342.3369 - ac_metrics: 0.464 - ETA: 3s - loss: 2339.4631 - ac_metrics: 0.466 - ETA: 0s - loss: 2325.7441 - ac_metrics: 0.469 - 151s 4s/step - loss: 2325.7441 - ac_metrics: 0.4690 - val_loss: 2314.8569 - val_ac_metrics: 0.5156\n",
      "Epoch 3/5\n",
      "42/42 [==============================] - ETA: 0s - loss: 2436.1831 - ac_metrics: 0.302 - ETA: 1:07 - loss: 2288.7090 - ac_metrics: 0.393 - ETA: 1:27 - loss: 2084.2444 - ac_metrics: 0.493 - ETA: 1:36 - loss: 2158.9402 - ac_metrics: 0.535 - ETA: 1:40 - loss: 2125.7751 - ac_metrics: 0.522 - ETA: 1:41 - loss: 2196.8770 - ac_metrics: 0.561 - ETA: 1:41 - loss: 2209.7737 - ac_metrics: 0.590 - ETA: 1:40 - loss: 2172.5503 - ac_metrics: 0.579 - ETA: 1:39 - loss: 2228.5369 - ac_metrics: 0.561 - ETA: 1:37 - loss: 2210.2319 - ac_metrics: 0.554 - ETA: 1:35 - loss: 2227.6499 - ac_metrics: 0.551 - ETA: 1:33 - loss: 2224.2009 - ac_metrics: 0.533 - ETA: 1:30 - loss: 2305.3110 - ac_metrics: 0.553 - ETA: 1:28 - loss: 2299.6382 - ac_metrics: 0.556 - ETA: 1:25 - loss: 2294.9519 - ac_metrics: 0.554 - ETA: 1:22 - loss: 2287.0869 - ac_metrics: 0.558 - ETA: 1:20 - loss: 2281.9089 - ac_metrics: 0.561 - ETA: 1:17 - loss: 2275.9075 - ac_metrics: 0.556 - ETA: 1:14 - loss: 2268.8914 - ac_metrics: 0.558 - ETA: 1:11 - loss: 2255.5420 - ac_metrics: 0.545 - ETA: 1:08 - loss: 2265.1006 - ac_metrics: 0.534 - ETA: 1:05 - loss: 2283.7542 - ac_metrics: 0.524 - ETA: 1:02 - loss: 2273.6504 - ac_metrics: 0.528 - ETA: 58s - loss: 2307.0120 - ac_metrics: 0.518 - ETA: 55s - loss: 2339.7114 - ac_metrics: 0.52 - ETA: 52s - loss: 2352.2139 - ac_metrics: 0.51 - ETA: 49s - loss: 2374.8589 - ac_metrics: 0.51 - ETA: 46s - loss: 2365.8318 - ac_metrics: 0.51 - ETA: 42s - loss: 2361.4780 - ac_metrics: 0.51 - ETA: 39s - loss: 2362.2114 - ac_metrics: 0.50 - ETA: 36s - loss: 2360.1270 - ac_metrics: 0.50 - ETA: 33s - loss: 2362.0540 - ac_metrics: 0.50 - ETA: 29s - loss: 2361.5520 - ac_metrics: 0.49 - ETA: 26s - loss: 2374.1350 - ac_metrics: 0.49 - ETA: 23s - loss: 2386.2751 - ac_metrics: 0.49 - ETA: 19s - loss: 2370.6707 - ac_metrics: 0.49 - ETA: 16s - loss: 2359.1929 - ac_metrics: 0.49 - ETA: 13s - loss: 2359.1841 - ac_metrics: 0.49 - ETA: 10s - loss: 2349.6523 - ac_metrics: 0.49 - ETA: 6s - loss: 2340.1697 - ac_metrics: 0.4994 - ETA: 3s - loss: 2330.1968 - ac_metrics: 0.502 - ETA: 0s - loss: 2315.0012 - ac_metrics: 0.504 - 153s 4s/step - loss: 2315.0012 - ac_metrics: 0.5047 - val_loss: 2311.0664 - val_ac_metrics: 0.5183\n",
      "Epoch 4/5\n",
      "42/42 [==============================] - ETA: 0s - loss: 1913.3949 - ac_metrics: 0.511 - ETA: 1:09 - loss: 2006.8870 - ac_metrics: 0.493 - ETA: 1:29 - loss: 2172.4631 - ac_metrics: 0.513 - ETA: 1:38 - loss: 2242.9353 - ac_metrics: 0.491 - ETA: 1:42 - loss: 2530.4624 - ac_metrics: 0.549 - ETA: 1:43 - loss: 2455.4260 - ac_metrics: 0.554 - ETA: 1:43 - loss: 2516.8242 - ac_metrics: 0.544 - ETA: 1:42 - loss: 2501.6021 - ac_metrics: 0.548 - ETA: 1:40 - loss: 2472.3440 - ac_metrics: 0.557 - ETA: 1:39 - loss: 2456.7695 - ac_metrics: 0.545 - ETA: 1:36 - loss: 2428.5913 - ac_metrics: 0.536 - ETA: 1:34 - loss: 2396.7637 - ac_metrics: 0.535 - ETA: 1:32 - loss: 2383.7231 - ac_metrics: 0.530 - ETA: 1:29 - loss: 2367.6479 - ac_metrics: 0.527 - ETA: 1:26 - loss: 2334.5901 - ac_metrics: 0.530 - ETA: 1:23 - loss: 2330.0239 - ac_metrics: 0.524 - ETA: 1:20 - loss: 2324.6836 - ac_metrics: 0.511 - ETA: 1:17 - loss: 2325.8442 - ac_metrics: 0.513 - ETA: 1:14 - loss: 2324.4617 - ac_metrics: 0.510 - ETA: 1:11 - loss: 2342.5659 - ac_metrics: 0.505 - ETA: 1:08 - loss: 2342.8442 - ac_metrics: 0.506 - ETA: 1:05 - loss: 2346.3469 - ac_metrics: 0.513 - ETA: 1:02 - loss: 2344.9282 - ac_metrics: 0.502 - ETA: 59s - loss: 2344.4670 - ac_metrics: 0.505 - ETA: 56s - loss: 2329.8118 - ac_metrics: 0.51 - ETA: 52s - loss: 2322.0242 - ac_metrics: 0.50 - ETA: 49s - loss: 2308.5437 - ac_metrics: 0.50 - ETA: 46s - loss: 2299.6543 - ac_metrics: 0.49 - ETA: 43s - loss: 2303.6057 - ac_metrics: 0.49 - ETA: 39s - loss: 2298.2646 - ac_metrics: 0.49 - ETA: 36s - loss: 2302.3425 - ac_metrics: 0.49 - ETA: 33s - loss: 2292.7451 - ac_metrics: 0.49 - ETA: 30s - loss: 2306.7795 - ac_metrics: 0.49 - ETA: 26s - loss: 2310.8210 - ac_metrics: 0.50 - ETA: 23s - loss: 2304.7576 - ac_metrics: 0.49 - ETA: 20s - loss: 2298.8442 - ac_metrics: 0.49 - ETA: 16s - loss: 2298.7571 - ac_metrics: 0.49 - ETA: 13s - loss: 2289.1890 - ac_metrics: 0.49 - ETA: 10s - loss: 2300.5400 - ac_metrics: 0.49 - ETA: 6s - loss: 2303.0674 - ac_metrics: 0.4976 - ETA: 3s - loss: 2301.8086 - ac_metrics: 0.499 - ETA: 0s - loss: 2293.8730 - ac_metrics: 0.494 - 153s 4s/step - loss: 2293.8730 - ac_metrics: 0.4942 - val_loss: 2306.1951 - val_ac_metrics: 0.5110\n",
      "Epoch 5/5\n",
      "42/42 [==============================] - ETA: 0s - loss: 2494.8198 - ac_metrics: 0.510 - ETA: 1:09 - loss: 2266.6274 - ac_metrics: 0.512 - ETA: 1:29 - loss: 2306.1726 - ac_metrics: 0.485 - ETA: 1:38 - loss: 2394.8428 - ac_metrics: 0.454 - ETA: 1:42 - loss: 2350.7610 - ac_metrics: 0.445 - ETA: 1:43 - loss: 2379.0261 - ac_metrics: 0.442 - ETA: 1:43 - loss: 2423.1609 - ac_metrics: 0.430 - ETA: 1:42 - loss: 2430.9988 - ac_metrics: 0.431 - ETA: 1:40 - loss: 2365.0537 - ac_metrics: 0.428 - ETA: 1:39 - loss: 2319.9331 - ac_metrics: 0.441 - ETA: 1:37 - loss: 2326.7471 - ac_metrics: 0.436 - ETA: 1:34 - loss: 2271.4045 - ac_metrics: 0.441 - ETA: 1:32 - loss: 2281.6045 - ac_metrics: 0.438 - ETA: 1:29 - loss: 2279.9041 - ac_metrics: 0.451 - ETA: 1:26 - loss: 2274.4648 - ac_metrics: 0.469 - ETA: 1:24 - loss: 2278.7932 - ac_metrics: 0.461 - ETA: 1:21 - loss: 2275.1489 - ac_metrics: 0.463 - ETA: 1:18 - loss: 2261.7834 - ac_metrics: 0.460 - ETA: 1:15 - loss: 2234.4380 - ac_metrics: 0.459 - ETA: 1:12 - loss: 2224.7097 - ac_metrics: 0.473 - ETA: 1:08 - loss: 2241.3699 - ac_metrics: 0.483 - ETA: 1:05 - loss: 2237.2107 - ac_metrics: 0.474 - ETA: 1:02 - loss: 2243.5420 - ac_metrics: 0.472 - ETA: 59s - loss: 2261.2239 - ac_metrics: 0.474 - ETA: 56s - loss: 2299.0481 - ac_metrics: 0.48 - ETA: 52s - loss: 2299.5679 - ac_metrics: 0.49 - ETA: 49s - loss: 2303.6746 - ac_metrics: 0.48 - ETA: 46s - loss: 2306.5676 - ac_metrics: 0.48 - ETA: 43s - loss: 2340.6265 - ac_metrics: 0.49 - ETA: 39s - loss: 2324.5718 - ac_metrics: 0.49 - ETA: 36s - loss: 2309.4048 - ac_metrics: 0.49 - ETA: 33s - loss: 2307.9370 - ac_metrics: 0.49 - ETA: 30s - loss: 2304.0215 - ac_metrics: 0.49 - ETA: 26s - loss: 2312.6582 - ac_metrics: 0.49 - ETA: 23s - loss: 2312.3171 - ac_metrics: 0.49 - ETA: 20s - loss: 2315.1230 - ac_metrics: 0.50 - ETA: 16s - loss: 2315.3447 - ac_metrics: 0.50 - ETA: 13s - loss: 2313.5007 - ac_metrics: 0.49 - ETA: 10s - loss: 2308.1492 - ac_metrics: 0.50 - ETA: 6s - loss: 2297.3247 - ac_metrics: 0.5021 - ETA: 3s - loss: 2292.6204 - ac_metrics: 0.497 - ETA: 0s - loss: 2281.9082 - ac_metrics: 0.499 - 153s 4s/step - loss: 2281.9082 - ac_metrics: 0.4999 - val_loss: 2325.5225 - val_ac_metrics: 0.4986\n"
     ]
    }
   ],
   "source": [
    "history = kpe_model.fit([x_train[500:],x_mask[500:],x_pos[500:]], y_train[500:,:,0], \n",
    "                          batch_size=32,epochs=5,#callbacks=callbacks_list, \n",
    "                          #use_multiprocessing=True, \n",
    "                         validation_split=0.1)\n"
   ]
  },
  {
   "cell_type": "code",
   "execution_count": 141,
   "metadata": {
    "scrolled": true
   },
   "outputs": [
    {
     "data": {
      "image/png": "[encoded data removed]",
      "text/plain": [
       "<Figure size 432x288 with 1 Axes>"
      ]
     },
     "metadata": {
      "needs_background": "light"
     },
     "output_type": "display_data"
    },
    {
     "data": {
      "image/png": "[encoded data removed]",
      "text/plain": [
       "<Figure size 432x288 with 1 Axes>"
      ]
     },
     "metadata": {
      "needs_background": "light"
     },
     "output_type": "display_data"
    }
   ],
   "source": [
    "plt.plot(history.history['ac_metrics'])\n",
    "plt.plot(history.history['val_ac_metrics'])\n",
    "plt.title('model accuracy')\n",
    "plt.ylabel('accuracy')\n",
    "plt.xlabel('epoch')\n",
    "plt.legend(['train', 'validation'], loc='upper left')\n",
    "plt.show()\n",
    "# summarize history for loss\n",
    "plt.plot(history.history['loss'])\n",
    "plt.plot(history.history['val_loss'])\n",
    "plt.title('model loss')\n",
    "plt.ylabel('loss')\n",
    "plt.xlabel('epoch')\n",
    "plt.legend(['train', 'validation'], loc='upper left')\n",
    "plt.show()"
   ]
  },
  {
   "cell_type": "code",
   "execution_count": 139,
   "metadata": {},
   "outputs": [
    {
     "name": "stdout",
     "output_type": "stream",
     "text": [
      "Generate predictions for test\n",
      "predictions shape: (500, 154, 1)\n"
     ]
    }
   ],
   "source": [
    "# Generate predictions (probabilities -- the output of the last layer)\n",
    "# on new data using `predict`\n",
    "print(\"Generate predictions for test\")\n",
    "predictions = kpe_model.predict([x_train[:500],x_mask[:500],x_pos[:500]])\n",
    "print(\"predictions shape:\", predictions.shape)\n"
   ]
  },
  {
   "cell_type": "code",
   "execution_count": 275,
   "metadata": {
    "scrolled": true
   },
   "outputs": [
    {
     "name": "stdout",
     "output_type": "stream",
     "text": [
      "F1 [0.12139794 0.15248815 0.16843738] [0.1339     0.1301881  0.12874873] [0.13972958 0.24326879 0.3330662 ]\n"
     ]
    }
   ],
   "source": [
    "calculate_f1(np.where(y_train[:500,:,0]-1==1,1,0),predictions[:,:,0],25,[5,10,15])"
   ]
  },
  {
   "cell_type": "code",
   "execution_count": 137,
   "metadata": {},
   "outputs": [
    {
     "name": "stdout",
     "output_type": "stream",
     "text": [
      "INFO:tensorflow:Assets written to: ./checkpoints/inspec_final\\assets\n"
     ]
    }
   ],
   "source": [
    "kpe_model.save('./checkpoints/inspec_final')\n"
   ]
  },
  {
   "cell_type": "code",
   "execution_count": 169,
   "metadata": {},
   "outputs": [
    {
     "data": {
      "text/plain": [
       "(array([ 9, 10, 11, 18, 19, 21, 22], dtype=int64),)"
      ]
     },
     "execution_count": 169,
     "metadata": {},
     "output_type": "execute_result"
    }
   ],
   "source": [
    "t = 259\n",
    "np.where(predictions[t,:,0][np.where((y_train[t,:,0])>0)]>=0.69)"
   ]
  },
  {
   "cell_type": "code",
   "execution_count": 170,
   "metadata": {
    "scrolled": true
   },
   "outputs": [
    {
     "data": {
      "text/plain": [
       "array([ 19,  21,  10,   9,  11,  18,  22,  20,  24,   8,  12,  14,   4,\n",
       "         5,   3,   7,  15,  27,  17,  23,  25,  16,   6,  28,  13,  34,\n",
       "        26,  29,   2,   1,  35,  32,  30,  33,  36,  31,  38,  41,  40,\n",
       "        37,  39,  42,  43,   0,  44,  45,  48,  55,  51,  52,  53,  46,\n",
       "        54,  49,  50,  57,  47,  56,  58,  59,  60,  61,  62,  63,  64,\n",
       "        65,  66,  67,  68,  69,  70,  71,  72,  73,  74,  75,  76,  77,\n",
       "        78,  79,  80,  81,  82,  83, 153,  84,  85,  86, 152,  87,  88,\n",
       "       151,  89, 150,  90,  91, 149,  92, 148,  93, 147,  94, 146, 145,\n",
       "        95, 144,  96, 143, 142,  97, 141,  98, 140, 139,  99, 138, 137,\n",
       "       100, 136, 135, 101, 134, 133, 102, 132, 131, 103, 130, 104, 129,\n",
       "       128, 105, 127, 126, 106, 125, 124, 107, 123, 122, 108, 121, 120,\n",
       "       109, 119, 110, 118, 117, 111, 116, 112, 114, 113, 115], dtype=int64)"
      ]
     },
     "execution_count": 170,
     "metadata": {},
     "output_type": "execute_result"
    }
   ],
   "source": [
    "np.argsort(-predictions[t,:,0])"
   ]
  },
  {
   "cell_type": "code",
   "execution_count": 171,
   "metadata": {
    "scrolled": false
   },
   "outputs": [
    {
     "data": {
      "text/plain": [
       "(array([ 1,  2,  3,  9, 16, 36], dtype=int64),)"
      ]
     },
     "execution_count": 171,
     "metadata": {},
     "output_type": "execute_result"
    }
   ],
   "source": [
    "np.where((y_train[t,:,0]-1)==1)"
   ]
  },
  {
   "cell_type": "code",
   "execution_count": 283,
   "metadata": {},
   "outputs": [
    {
     "data": {
      "text/plain": [
       "defaultdict(float,\n",
       "            {'steam turbine plant startup time': 0.66949254,\n",
       "             'thermal stress': 0.6408367,\n",
       "             'combined cycle power generation plant': 0.63953763,\n",
       "             'aim': 0.6283839,\n",
       "             'violating': 0.62470204,\n",
       "             'candidate controllers': 0.62230295,\n",
       "             'existing': 0.619974,\n",
       "             'startup schedule': 0.5948295,\n",
       "             'startup times': 0.5892381,\n",
       "             'maximum thermal stress limits': 0.5877388,\n",
       "             'control scheme': 0.58097446,\n",
       "             'realized using': 0.5739425,\n",
       "             'dynamic model': 0.55229133,\n",
       "             'fuzzy logic approach': 0.50550425,\n",
       "             'maximum thermal stress restrictions': 0.5027033,\n",
       "             'performance': 0.5013375})"
      ]
     },
     "execution_count": 283,
     "metadata": {},
     "output_type": "execute_result"
    }
   ],
   "source": [
    "\n",
    "idx = np.argsort(-predictions[t,:,0])\n",
    "preds = np.where(predictions[t,np.argsort(-predictions[t,:,0])]>=0.5)\n",
    "scores = predictions [t,idx]\n",
    "res = np.array(x_pos[t])[:,idx[preds[0]]]\n",
    "\n",
    "keyphrases = collections.defaultdict(float)\n",
    "for i in range(res.shape[1]):\n",
    "    phrase = res[:,i]\n",
    "    phrase = tokenizer.decode(list(x_train[t,phrase[0]:(phrase[1]+1)]))\n",
    "    keyphrases[phrase] = max(keyphrases[phrase],scores[i][0])\n",
    "keyphrases"
   ]
  }
 ],
 "metadata": {
  "kernelspec": {
   "display_name": "Python 3",
   "language": "python",
   "name": "python3"
  },
  "language_info": {
   "codemirror_mode": {
    "name": "ipython",
    "version": 3
   },
   "file_extension": ".py",
   "mimetype": "text/x-python",
   "name": "python",
   "nbconvert_exporter": "python",
   "pygments_lexer": "ipython3",
   "version": "3.7.4"
  }
 },
 "nbformat": 4,
 "nbformat_minor": 4
}
